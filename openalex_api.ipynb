{
 "cells": [
  {
   "cell_type": "code",
   "execution_count": 18,
   "id": "39d51d10",
   "metadata": {},
   "outputs": [],
   "source": [
    "import requests\n",
    "import pandas as pd\n",
    "extracted_data = []"
   ]
  },
  {
   "cell_type": "code",
   "execution_count": 51,
   "id": "f45f3e67",
   "metadata": {},
   "outputs": [],
   "source": [
    "extracted_data = []"
   ]
  },
  {
   "cell_type": "code",
   "execution_count": 52,
   "id": "d29478e1",
   "metadata": {},
   "outputs": [],
   "source": [
    "topics = [\n",
    "    # Core edge computing and efficiency topics\n",
    "    \"edge computing deep learning\",\n",
    "    \"resource constrained deep learning\",\n",
    "    \"efficient neural networks\",\n",
    "    \"embedded AI\",\n",
    "    \"mobile deep learning\",\n",
    "    \n",
    "    # Knowledge distillation approaches\n",
    "    \"knowledge distillation\",\n",
    "    \"teacher student networks\",\n",
    "    \"model distillation edge\",\n",
    "    \"distillation tiny models\",\n",
    "    \"knowledge transfer neural networks\",\n",
    "    \n",
    "    # Quantization techniques\n",
    "    \"quantization neural networks\",\n",
    "    \"binary neural networks\",\n",
    "    \"reduced precision deep learning\",\n",
    "    \"integer quantization edge\",\n",
    "    \"post training quantization\",\n",
    "    \"quantization aware training\",\n",
    "    \n",
    "    # Network pruning and sparsity\n",
    "    \"network pruning\",\n",
    "    \"model pruning edge\",\n",
    "    \"weight pruning neural networks\",\n",
    "    \"structured pruning\",\n",
    "    \"sparse neural networks\",\n",
    "    \"filter pruning convolution\",\n",
    "    \n",
    "    # Model compression\n",
    "    \"model compression edge\",\n",
    "    \"neural network compression\",\n",
    "    \"lightweight deep learning\",\n",
    "    \"parameter efficient networks\",\n",
    "    \n",
    "    # Combined approaches\n",
    "    \"model optimization edge devices\",\n",
    "    \"deep learning IoT devices\",\n",
    "    \"neural architecture search edge\",\n",
    "    \"tiny machine learning\",\n",
    "    \"efficient transformers edge\"\n",
    "]"
   ]
  },
  {
   "cell_type": "code",
   "execution_count": null,
   "id": "c97081db",
   "metadata": {},
   "outputs": [],
   "source": [
    "for topic in topics:\n",
    "    response = requests.get(f\"https://api.openalex.org/works?filter=title.search:{topic.replace(' ','%20')}&per_page=50\")\n",
    "    if response.status_code == 200:\n",
    "        data = response.json()\n",
    "    else:\n",
    "        print(\"error\")\n",
    "    articles = data.get(\"results\")\n",
    "    for article in articles:\n",
    "        article_data = {\n",
    "            'id':article['id'],\n",
    "            'doi':article['doi'],\n",
    "            'title':article['title'],\n",
    "            'date':article['publication_date'],\n",
    "            'score':article['relevance_score'],\n",
    "            'lang':article['language'],\n",
    "            'a_type':article['type'],\n",
    "            'cited_by_count':article['cited_by_count'],\n",
    "            \"authors\": [auth[\"author\"][\"display_name\"] for auth in article.get(\"authorships\", [])],\n",
    "            \"institutions\": [auth[\"institutions\"][0][\"display_name\"] for auth in article.get(\"authorships\", []) if auth[\"institutions\"]],\n",
    "            \"journal\": article.get(\"host_venue\", {}).get(\"display_name\"),\n",
    "            \"publisher\": article.get(\"host_venue\", {}).get(\"publisher\")\n",
    "        }\n",
    "        extracted_data.append(article_data)"
   ]
  },
  {
   "cell_type": "code",
   "execution_count": null,
   "id": "6a30015b",
   "metadata": {},
   "outputs": [],
   "source": [
    "len(extracted_data)"
   ]
  },
  {
   "cell_type": "code",
   "execution_count": null,
   "id": "cc95c3b8",
   "metadata": {},
   "outputs": [],
   "source": []
  }
 ],
 "metadata": {
  "kernelspec": {
   "display_name": "Python 3 (ipykernel)",
   "language": "python",
   "name": "python3"
  },
  "language_info": {
   "codemirror_mode": {
    "name": "ipython",
    "version": 3
   },
   "file_extension": ".py",
   "mimetype": "text/x-python",
   "name": "python",
   "nbconvert_exporter": "python",
   "pygments_lexer": "ipython3",
   "version": "3.10.15"
  }
 },
 "nbformat": 4,
 "nbformat_minor": 5
}
